{
 "cells": [
  {
   "cell_type": "markdown",
   "metadata": {},
   "source": [
    "**Instruction**\n",
    "\n",
    "* cell clicked -> esc key -> m : markdown editor\n",
    "* cell clicked -> esc key -> dd: delete cell\n",
    "* cell clicked -> alt + enter -> result and next new cell\n",
    "* cell clicked -> ctrl + enter -> you can see result of the cell"
   ]
  },
  {
   "cell_type": "markdown",
   "metadata": {},
   "source": [
    "### Function, Q2"
   ]
  },
  {
   "cell_type": "code",
   "execution_count": 1,
   "metadata": {},
   "outputs": [
    {
     "name": "stdout",
     "output_type": "stream",
     "text": [
      "[8, 2, 3, 0, 7]\n"
     ]
    }
   ],
   "source": [
    "sample_list = [8,2,3,0,7]\n",
    "print(sample_list)"
   ]
  },
  {
   "cell_type": "code",
   "execution_count": 3,
   "metadata": {},
   "outputs": [
    {
     "name": "stdout",
     "output_type": "stream",
     "text": [
      "20\n"
     ]
    }
   ],
   "source": [
    "# for\n",
    "sum = 0\n",
    "for sample_element in sample_list:\n",
    "    sum += sample_element\n",
    "\n",
    "print(sum)"
   ]
  },
  {
   "cell_type": "code",
   "execution_count": 5,
   "metadata": {},
   "outputs": [
    {
     "name": "stdout",
     "output_type": "stream",
     "text": [
      "20\n"
     ]
    }
   ],
   "source": [
    "# function\n",
    "def addition(list):\n",
    "    sum = 0\n",
    "    for l in list:\n",
    "        sum += l\n",
    "    return sum\n",
    "\n",
    "#call the function\n",
    "addition(sample_list)\n",
    "print(addition(sample_list))"
   ]
  },
  {
   "cell_type": "code",
   "execution_count": null,
   "metadata": {},
   "outputs": [],
   "source": []
  }
 ],
 "metadata": {
  "kernelspec": {
   "display_name": "Python 3",
   "language": "python",
   "name": "python3"
  },
  "language_info": {
   "codemirror_mode": {
    "name": "ipython",
    "version": 3
   },
   "file_extension": ".py",
   "mimetype": "text/x-python",
   "name": "python",
   "nbconvert_exporter": "python",
   "pygments_lexer": "ipython3",
   "version": "3.7.3"
  }
 },
 "nbformat": 4,
 "nbformat_minor": 2
}
