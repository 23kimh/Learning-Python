{
 "cells": [
  {
   "cell_type": "code",
   "execution_count": 2,
   "metadata": {},
   "outputs": [
    {
     "ename": "IndentationError",
     "evalue": "unexpected indent (<ipython-input-2-d23fc9c8ee31>, line 4)",
     "output_type": "error",
     "traceback": [
      "\u001b[0;36m  File \u001b[0;32m\"<ipython-input-2-d23fc9c8ee31>\"\u001b[0;36m, line \u001b[0;32m4\u001b[0m\n\u001b[0;31m    else:\u001b[0m\n\u001b[0m    ^\u001b[0m\n\u001b[0;31mIndentationError\u001b[0m\u001b[0;31m:\u001b[0m unexpected indent\n"
     ]
    }
   ],
   "source": [
    "if expression:\n",
    "    statement_1\n",
    "    statement_2\n",
    "        else:\n",
    "    statement_3\n",
    "    statement_4"
   ]
  },
  {
   "cell_type": "code",
   "execution_count": 3,
   "metadata": {},
   "outputs": [
    {
     "name": "stdout",
     "output_type": "stream",
     "text": [
      "value of a is 10\n"
     ]
    }
   ],
   "source": [
    "a = 10\n",
    "if(a>10):\n",
    "    print('value of a is greater than 10')\n",
    "else:\n",
    "    print('value of a is 10')"
   ]
  },
  {
   "cell_type": "code",
   "execution_count": 4,
   "metadata": {},
   "outputs": [
    {
     "name": "stdout",
     "output_type": "stream",
     "text": [
      "Type of the variable is Complex\n"
     ]
    }
   ],
   "source": [
    "var1 = 1+2j\n",
    "if (type(var1) == int):\n",
    "    print(\"Type of the variable is Integer\")\n",
    "elif (type(var1) == float):\n",
    "    print(\"Type of the variable is Float\")\n",
    "elif (type(var1) == complex):\n",
    "    print(\"Type of the variable is Complex\")\n",
    "elif (type(var1) == bool):\n",
    "    print(\"Type of the variable is Bool\")\n",
    "elif (type(var1) == str):\n",
    "    print(\"Type of the variable is String\")\n",
    "elif (type(var1) == tuple):\n",
    "    print(\"Type of the variable is Tuple\")\n",
    "elif (type(var1) == dict):\n",
    "    print(\"Type of the variable is Dictionaries\")\n",
    "elif (type(var1) == list):\n",
    "    print(\"Type of the variable is List\")\n",
    "else:\n",
    "    print(\"Type of the variable is Unknown\")"
   ]
  },
  {
   "cell_type": "code",
   "execution_count": 5,
   "metadata": {},
   "outputs": [
    {
     "name": "stdout",
     "output_type": "stream",
     "text": [
      "You are eligible to see the Football match.\n",
      "Tic kit price is $20\n"
     ]
    }
   ],
   "source": [
    "age = 38\n",
    "if (age >= 11):\n",
    "  print (\"You are eligible to see the Football match.\")\n",
    "  if (age <= 20 or age >= 60):\n",
    "      print(\"Ticket price is $12\")\n",
    "  else:\n",
    "      print(\"Tic kit price is $20\")\n",
    "else:\n",
    "    print (\"You're not eligible to buy a ticket.\")"
   ]
  },
  {
   "cell_type": "code",
   "execution_count": 6,
   "metadata": {},
   "outputs": [
    {
     "name": "stdout",
     "output_type": "stream",
     "text": [
      "x is False or y is False or both x and y are False\n"
     ]
    }
   ],
   "source": [
    "x = False\n",
    "y = True\n",
    "\n",
    "#The validation will be True only if all the expressions generate a value True\n",
    "if x and y:\n",
    "    print('Both x and y are True')\n",
    "else:\n",
    "    print('x is False or y is False or both x and y are False')"
   ]
  },
  {
   "cell_type": "code",
   "execution_count": 7,
   "metadata": {},
   "outputs": [
    {
     "name": "stdout",
     "output_type": "stream",
     "text": [
      "jQuery Tutorial\n",
      "jQuery Tutorial\n"
     ]
    }
   ],
   "source": [
    "#create a string\n",
    "s = 'jQuery'\n",
    "#create a list\n",
    "l = ['JavaScript', 'jQuery', 'ZinoUI']\n",
    "\n",
    "# in operator is used to replace various expressions that use the or operator\n",
    "if s in l:\n",
    "    print(s + ' Tutorial')\n",
    "\n",
    "#Alternate if statement with or operator\n",
    "\n",
    "if s == 'JavaScript' or s == 'jQuery' or s == 'ZinoUI':\n",
    "     print(s + ' Tutorial')"
   ]
  },
  {
   "cell_type": "code",
   "execution_count": 8,
   "metadata": {},
   "outputs": [
    {
     "name": "stdout",
     "output_type": "stream",
     "text": [
      "150\n",
      "21.428571428571427\n"
     ]
    }
   ],
   "source": [
    "#create a integer\n",
    "n = 150\n",
    "print(n)\n",
    "\n",
    "#if n is greater than 500, n is multiplied by 7, otherwise n is divided by 7\n",
    "result = n * 7 if n > 500 else n / 7\n",
    "print(result)\n"
   ]
  },
  {
   "cell_type": "code",
   "execution_count": 10,
   "metadata": {},
   "outputs": [
    {
     "name": "stdout",
     "output_type": "stream",
     "text": [
      "20\n",
      "the value of x different from 50\n"
     ]
    }
   ],
   "source": [
    "#create a integer\n",
    "x = 20\n",
    "print(x)\n",
    "\n",
    "#uses the not operator to reverse the result of the logical expression\n",
    "\n",
    "if not x == 50:\n",
    "    print('the value of x different from 50')\n",
    "else:\n",
    "    print('the value of x is equal to 50')\n"
   ]
  },
  {
   "cell_type": "code",
   "execution_count": null,
   "metadata": {},
   "outputs": [],
   "source": []
  },
  {
   "cell_type": "code",
   "execution_count": 4,
   "metadata": {},
   "outputs": [
    {
     "name": "stdout",
     "output_type": "stream",
     "text": [
      "11\n",
      "no\n"
     ]
    }
   ],
   "source": [
    "x = 11\n",
    "print(x)\n",
    "\n",
    "if x <= 10:\n",
    "    print('yes')\n",
    "else:\n",
    "     print('no')"
   ]
  },
  {
   "cell_type": "code",
   "execution_count": null,
   "metadata": {},
   "outputs": [],
   "source": []
  },
  {
   "cell_type": "code",
   "execution_count": null,
   "metadata": {},
   "outputs": [],
   "source": []
  },
  {
   "cell_type": "code",
   "execution_count": null,
   "metadata": {},
   "outputs": [],
   "source": []
  },
  {
   "cell_type": "code",
   "execution_count": null,
   "metadata": {},
   "outputs": [],
   "source": []
  }
 ],
 "metadata": {
  "kernelspec": {
   "display_name": "Python 3",
   "language": "python",
   "name": "python3"
  },
  "language_info": {
   "codemirror_mode": {
    "name": "ipython",
    "version": 3
   },
   "file_extension": ".py",
   "mimetype": "text/x-python",
   "name": "python",
   "nbconvert_exporter": "python",
   "pygments_lexer": "ipython3",
   "version": "3.7.3"
  }
 },
 "nbformat": 4,
 "nbformat_minor": 2
}
