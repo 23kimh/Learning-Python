{
 "cells": [
  {
   "cell_type": "markdown",
   "metadata": {},
   "source": [
    "## (1) Programming Way\n",
    "\n",
    "* oop: object oriented programming"
   ]
  },
  {
   "cell_type": "markdown",
   "metadata": {},
   "source": [
    "### (2) Class Basic\n",
    "\n",
    "* Class\n",
    "* Instant"
   ]
  },
  {
   "cell_type": "code",
   "execution_count": 5,
   "metadata": {},
   "outputs": [],
   "source": [
    "class factory:\n",
    "    brand = 'CIT'\n",
    "    day = '20190711'\n",
    "    def start_up(self):\n",
    "        print('start!')"
   ]
  },
  {
   "cell_type": "code",
   "execution_count": 6,
   "metadata": {},
   "outputs": [],
   "source": [
    "carA = factory()\n",
    "carB = factory()"
   ]
  },
  {
   "cell_type": "code",
   "execution_count": 7,
   "metadata": {},
   "outputs": [
    {
     "data": {
      "text/plain": [
       "'CIT'"
      ]
     },
     "execution_count": 7,
     "metadata": {},
     "output_type": "execute_result"
    }
   ],
   "source": [
    "carA.brand"
   ]
  },
  {
   "cell_type": "code",
   "execution_count": 8,
   "metadata": {},
   "outputs": [
    {
     "name": "stdout",
     "output_type": "stream",
     "text": [
      "CIA CIT\n"
     ]
    }
   ],
   "source": [
    "carA.brand = 'CIA'\n",
    "print(carA.brand, factory.brand)"
   ]
  },
  {
   "cell_type": "code",
   "execution_count": 9,
   "metadata": {},
   "outputs": [
    {
     "name": "stdout",
     "output_type": "stream",
     "text": [
      "start!\n"
     ]
    }
   ],
   "source": [
    "carA.start_up()"
   ]
  },
  {
   "cell_type": "markdown",
   "metadata": {},
   "source": [
    "### Question"
   ]
  },
  {
   "cell_type": "code",
   "execution_count": 29,
   "metadata": {},
   "outputs": [],
   "source": [
    "class bakery:\n",
    "    cream = 2000\n",
    "    soboro = 1500\n",
    "    beans = 2000\n",
    "    def prize(self, bread):\n",
    "        if bread == 'cream':\n",
    "            return self.cream\n",
    "        elif bread == 'soboro':\n",
    "            return self.soboro\n",
    "        else:\n",
    "            return self.beans"
   ]
  },
  {
   "cell_type": "code",
   "execution_count": 30,
   "metadata": {},
   "outputs": [],
   "source": [
    "paris = bakery()"
   ]
  },
  {
   "cell_type": "code",
   "execution_count": 31,
   "metadata": {},
   "outputs": [
    {
     "data": {
      "text/plain": [
       "2000"
      ]
     },
     "execution_count": 31,
     "metadata": {},
     "output_type": "execute_result"
    }
   ],
   "source": [
    "paris.cream"
   ]
  },
  {
   "cell_type": "code",
   "execution_count": 32,
   "metadata": {},
   "outputs": [
    {
     "data": {
      "text/plain": [
       "1500"
      ]
     },
     "execution_count": 32,
     "metadata": {},
     "output_type": "execute_result"
    }
   ],
   "source": [
    "paris.prize('soboro')"
   ]
  },
  {
   "cell_type": "code",
   "execution_count": 33,
   "metadata": {},
   "outputs": [],
   "source": [
    "class factory:\n",
    "    brand = 'cit'\n",
    "    day = '20190711'\n",
    "    def start_up(self, loc, time):\n",
    "        print(self.brand, 'start engine. \\nlocation: ', loc, 'time: ', time)"
   ]
  },
  {
   "cell_type": "code",
   "execution_count": 34,
   "metadata": {},
   "outputs": [
    {
     "name": "stdout",
     "output_type": "stream",
     "text": [
      "code start engine. \n",
      "location:  moutain time:  6 PM\n",
      "cit start engine. \n",
      "location:  harbor time:  9AM\n",
      "cit start engine. \n",
      "location:  parkinglot time:  1pm\n"
     ]
    }
   ],
   "source": [
    "carA = factory()\n",
    "carB = factory()\n",
    "carC = factory()\n",
    "carA.brand = 'code'\n",
    "carA.start_up('moutain', '6 PM')\n",
    "carB.start_up('harbor', '9AM')\n",
    "carC.start_up('parkinglot', '1pm')"
   ]
  },
  {
   "cell_type": "code",
   "execution_count": 40,
   "metadata": {},
   "outputs": [],
   "source": [
    "class member:\n",
    "    id = 'Super Python'\n",
    "    password = '1234'\n",
    "    def getId(self):\n",
    "        print('id : ', self.id)\n",
    "        print('password:', self.password)"
   ]
  },
  {
   "cell_type": "code",
   "execution_count": 41,
   "metadata": {},
   "outputs": [
    {
     "name": "stdout",
     "output_type": "stream",
     "text": [
      "id :  Super Python\n",
      "password: 1234\n"
     ]
    }
   ],
   "source": [
    "member1 = member()\n",
    "member1.getId()"
   ]
  },
  {
   "cell_type": "code",
   "execution_count": 46,
   "metadata": {},
   "outputs": [],
   "source": [
    "class Member:\n",
    "    def setId(self, id, password):\n",
    "        self.id = id\n",
    "        self.password = password\n",
    "    def getId(self):\n",
    "        print('id', self.id)\n",
    "        print('password', self.password)"
   ]
  },
  {
   "cell_type": "code",
   "execution_count": 47,
   "metadata": {},
   "outputs": [],
   "source": [
    "member1 = Member()\n",
    "member1.setId('Super python', '1234')"
   ]
  },
  {
   "cell_type": "code",
   "execution_count": 48,
   "metadata": {},
   "outputs": [
    {
     "name": "stdout",
     "output_type": "stream",
     "text": [
      "id Super python\n",
      "password 1234\n"
     ]
    }
   ],
   "source": [
    "member1.getId()"
   ]
  },
  {
   "cell_type": "markdown",
   "metadata": {},
   "source": [
    "#with no setting there is no getting"
   ]
  },
  {
   "cell_type": "code",
   "execution_count": 49,
   "metadata": {},
   "outputs": [],
   "source": [
    "class member:\n",
    "    id = 'ID'\n",
    "    password = '1234'\n",
    "    def getid(self):\n",
    "        print('id:', self.id)\n",
    "        print('password:', self.password)"
   ]
  },
  {
   "cell_type": "code",
   "execution_count": 53,
   "metadata": {},
   "outputs": [
    {
     "ename": "AttributeError",
     "evalue": "'tuple' object has no attribute 'getId'",
     "output_type": "error",
     "traceback": [
      "\u001b[0;31m---------------------------------------------------------------------------\u001b[0m",
      "\u001b[0;31mAttributeError\u001b[0m                            Traceback (most recent call last)",
      "\u001b[0;32m<ipython-input-53-ba2f78887bef>\u001b[0m in \u001b[0;36m<module>\u001b[0;34m\u001b[0m\n\u001b[1;32m      1\u001b[0m \u001b[0mmember1\u001b[0m \u001b[0;34m=\u001b[0m \u001b[0;34m(\u001b[0m\u001b[0;34m)\u001b[0m\u001b[0;34m\u001b[0m\u001b[0;34m\u001b[0m\u001b[0m\n\u001b[0;32m----> 2\u001b[0;31m \u001b[0mmember1\u001b[0m\u001b[0;34m.\u001b[0m\u001b[0mgetId\u001b[0m\u001b[0;34m(\u001b[0m\u001b[0;34m)\u001b[0m\u001b[0;34m\u001b[0m\u001b[0;34m\u001b[0m\u001b[0m\n\u001b[0m",
      "\u001b[0;31mAttributeError\u001b[0m: 'tuple' object has no attribute 'getId'"
     ]
    }
   ],
   "source": [
    "member1 = ()\n",
    "member1.getid()"
   ]
  },
  {
   "cell_type": "code",
   "execution_count": null,
   "metadata": {},
   "outputs": [],
   "source": []
  },
  {
   "cell_type": "code",
   "execution_count": null,
   "metadata": {},
   "outputs": [],
   "source": []
  },
  {
   "cell_type": "code",
   "execution_count": null,
   "metadata": {},
   "outputs": [],
   "source": []
  },
  {
   "cell_type": "code",
   "execution_count": null,
   "metadata": {},
   "outputs": [],
   "source": []
  }
 ],
 "metadata": {
  "kernelspec": {
   "display_name": "Python 3",
   "language": "python",
   "name": "python3"
  },
  "language_info": {
   "codemirror_mode": {
    "name": "ipython",
    "version": 3
   },
   "file_extension": ".py",
   "mimetype": "text/x-python",
   "name": "python",
   "nbconvert_exporter": "python",
   "pygments_lexer": "ipython3",
   "version": "3.7.3"
  }
 },
 "nbformat": 4,
 "nbformat_minor": 2
}
