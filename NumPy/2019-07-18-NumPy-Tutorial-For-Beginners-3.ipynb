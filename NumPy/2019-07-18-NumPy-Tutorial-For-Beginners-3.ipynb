{
 "cells": [
  {
   "cell_type": "markdown",
   "metadata": {},
   "source": [
    "### Shape and Operation\n",
    "In addition to generating an array, after we have held some data, we may need to generate some new data structures **based on the existing array**. We can use the following functions.\n",
    "\n",
    "* reshape\n",
    "* vstack\n",
    "* hstack\n",
    "* hsplit\n",
    "* vsplit"
   ]
  },
  {
   "cell_type": "code",
   "execution_count": 1,
   "metadata": {},
   "outputs": [],
   "source": [
    "import numpy as np"
   ]
  },
  {
   "cell_type": "code",
   "execution_count": 2,
   "metadata": {},
   "outputs": [
    {
     "name": "stdout",
     "output_type": "stream",
     "text": [
      "zero_line = \n",
      "[[0. 0. 0.]]\n",
      "\n",
      "one_column = \n",
      "[[1.]\n",
      " [1.]\n",
      " [1.]]\n",
      "\n"
     ]
    }
   ],
   "source": [
    "# test data\n",
    "zero_line = np.zeros((1,3))\n",
    "one_column = np.ones((3,1))\n",
    "print('zero_line = \\n{}\\n'.format(zero_line))\n",
    "print('one_column = \\n{}\\n'.format(one_column))"
   ]
  },
  {
   "cell_type": "code",
   "execution_count": 3,
   "metadata": {},
   "outputs": [
    {
     "name": "stdout",
     "output_type": "stream",
     "text": [
      "a = \n",
      "[[1 2 3]\n",
      " [4 5 6]]\n",
      "\n",
      "b = \n",
      "[11 12 13 14 15 16 17 18 19]\n",
      "\n"
     ]
    }
   ],
   "source": [
    "#test data\n",
    "a = np.array([(1,2,3), (4,5,6)])\n",
    "b = np.arange(11,20) #in one line\n",
    "print('a = \\n{}\\n'.format(a))\n",
    "print('b = \\n{}\\n'.format(b))"
   ]
  },
  {
   "cell_type": "markdown",
   "metadata": {},
   "source": [
    "this array **b** is a **one-dimension array** originally, and we **resize** it into a **matrix of 3 rows and 3 columns** byt the **reshape** method"
   ]
  },
  {
   "cell_type": "code",
   "execution_count": 6,
   "metadata": {},
   "outputs": [
    {
     "name": "stdout",
     "output_type": "stream",
     "text": [
      "b.reshape(3,-1) = \n",
      "[[11 12 13]\n",
      " [14 15 16]\n",
      " [17 18 19]]\n",
      "\n"
     ]
    }
   ],
   "source": [
    "b = b.reshape(3, -1)\n",
    "print('b.reshape(3,-1) = \\n{}\\n'.format(b))\n"
   ]
  },
  {
   "cell_type": "code",
   "execution_count": 9,
   "metadata": {},
   "outputs": [
    {
     "name": "stdout",
     "output_type": "stream",
     "text": [
      "[ 1  2  3  4  5  6  7  8  9 10 11 12 13 14 15 16 17 18 19 20] \n",
      "\n",
      "[[ 1  2  3  4  5  6  7  8  9 10]\n",
      " [11 12 13 14 15 16 17 18 19 20]] \n",
      "\n",
      "[[ 1  2  3  4  5]\n",
      " [ 6  7  8  9 10]\n",
      " [11 12 13 14 15]\n",
      " [16 17 18 19 20]] \n",
      "\n",
      "[[ 1  2  3  4]\n",
      " [ 5  6  7  8]\n",
      " [ 9 10 11 12]\n",
      " [13 14 15 16]\n",
      " [17 18 19 20]] \n",
      "\n"
     ]
    }
   ],
   "source": [
    "# why is it -1\n",
    "test = np.arange(1,21)\n",
    "print(test,'\\n')\n",
    "test1 = test.reshape(2,-1)\n",
    "print(test1, '\\n')\n",
    "test2 = test.reshape(4,-1)\n",
    "print(test2, '\\n')\n",
    "test3 = test.reshape(5,4)\n",
    "print(test3, '\\n')"
   ]
  },
  {
   "cell_type": "markdown",
   "metadata": {},
   "source": [
    "Next, we will **stack the 3 arrays vertically** through the vstack function"
   ]
  },
  {
   "cell_type": "code",
   "execution_count": 10,
   "metadata": {},
   "outputs": [
    {
     "name": "stdout",
     "output_type": "stream",
     "text": [
      "[[ 1.  2.  3.]\n",
      " [ 4.  5.  6.]\n",
      " [11. 12. 13.]\n",
      " [14. 15. 16.]\n",
      " [17. 18. 19.]\n",
      " [ 0.  0.  0.]]\n"
     ]
    }
   ],
   "source": [
    "c = np.vstack((a,b, zero_line))\n",
    "print(c)"
   ]
  },
  {
   "cell_type": "markdown",
   "metadata": {},
   "source": [
    "Similary, we can also use the **hstack for the horizontal stacking**. This time we need time to **adjust the structure of the array** at first."
   ]
  },
  {
   "cell_type": "code",
   "execution_count": 11,
   "metadata": {},
   "outputs": [
    {
     "name": "stdout",
     "output_type": "stream",
     "text": [
      "[[1 2]\n",
      " [3 4]\n",
      " [5 6]]\n"
     ]
    }
   ],
   "source": [
    "a = a.reshape(3,2)\n",
    "print(a)\n",
    "#have to change "
   ]
  },
  {
   "cell_type": "code",
   "execution_count": 14,
   "metadata": {},
   "outputs": [
    {
     "name": "stdout",
     "output_type": "stream",
     "text": [
      "[[ 1.  2. 11. 12. 13.  1.]\n",
      " [ 3.  4. 14. 15. 16.  1.]\n",
      " [ 5.  6. 17. 18. 19.  1.]]\n"
     ]
    }
   ],
   "source": [
    "d = np.hstack((a,b,one_column)) \n",
    "print(d)"
   ]
  },
  {
   "cell_type": "markdown",
   "metadata": {},
   "source": [
    "We split the array **d** into **three arrays in the horizontal direction**"
   ]
  },
  {
   "cell_type": "code",
   "execution_count": 16,
   "metadata": {},
   "outputs": [
    {
     "name": "stdout",
     "output_type": "stream",
     "text": [
      "[array([[1., 2.],\n",
      "       [3., 4.],\n",
      "       [5., 6.]]), array([[11., 12.],\n",
      "       [14., 15.],\n",
      "       [17., 18.]]), array([[13.,  1.],\n",
      "       [16.,  1.],\n",
      "       [19.,  1.]])]\n"
     ]
    }
   ],
   "source": [
    "e = np.hsplit(d,3)\n",
    "print(e)"
   ]
  },
  {
   "cell_type": "code",
   "execution_count": 17,
   "metadata": {},
   "outputs": [
    {
     "name": "stdout",
     "output_type": "stream",
     "text": [
      "[[11. 12.]\n",
      " [14. 15.]\n",
      " [17. 18.]]\n"
     ]
    }
   ],
   "source": [
    "print(e[1])"
   ]
  },
  {
   "cell_type": "code",
   "execution_count": 18,
   "metadata": {},
   "outputs": [
    {
     "name": "stdout",
     "output_type": "stream",
     "text": [
      "[[1. 2.]\n",
      " [3. 4.]\n",
      " [5. 6.]]\n"
     ]
    }
   ],
   "source": [
    "print(e[0])"
   ]
  },
  {
   "cell_type": "code",
   "execution_count": 19,
   "metadata": {},
   "outputs": [
    {
     "name": "stdout",
     "output_type": "stream",
     "text": [
      "[[13.  1.]\n",
      " [16.  1.]\n",
      " [19.  1.]]\n"
     ]
    }
   ],
   "source": [
    "print(e[2])"
   ]
  },
  {
   "cell_type": "code",
   "execution_count": 21,
   "metadata": {},
   "outputs": [
    {
     "name": "stdout",
     "output_type": "stream",
     "text": [
      "[array([[1.],\n",
      "       [3.],\n",
      "       [5.]]), array([[ 2., 11.],\n",
      "       [ 4., 14.],\n",
      "       [ 6., 17.]]), array([[12., 13.,  1.],\n",
      "       [15., 16.,  1.],\n",
      "       [18., 19.,  1.]])]\n"
     ]
    }
   ],
   "source": [
    "f = np.hsplit(d,(1,3))\n",
    "#split a after the 1st and the 3rd column\n",
    "print(f)"
   ]
  },
  {
   "cell_type": "code",
   "execution_count": 22,
   "metadata": {},
   "outputs": [
    {
     "name": "stdout",
     "output_type": "stream",
     "text": [
      "[[1.]\n",
      " [3.]\n",
      " [5.]]\n"
     ]
    }
   ],
   "source": [
    "print(f[0])"
   ]
  },
  {
   "cell_type": "code",
   "execution_count": 23,
   "metadata": {},
   "outputs": [
    {
     "name": "stdout",
     "output_type": "stream",
     "text": [
      "[[ 2. 11.]\n",
      " [ 4. 14.]\n",
      " [ 6. 17.]]\n"
     ]
    }
   ],
   "source": [
    "print(f[1])"
   ]
  },
  {
   "cell_type": "code",
   "execution_count": 24,
   "metadata": {},
   "outputs": [
    {
     "name": "stdout",
     "output_type": "stream",
     "text": [
      "[[12. 13.  1.]\n",
      " [15. 16.  1.]\n",
      " [18. 19.  1.]]\n"
     ]
    }
   ],
   "source": [
    "print(f[2])"
   ]
  },
  {
   "cell_type": "markdown",
   "metadata": {},
   "source": [
    "Finally, we split the array **d** in the **vertical direction**"
   ]
  },
  {
   "cell_type": "code",
   "execution_count": 25,
   "metadata": {},
   "outputs": [
    {
     "name": "stdout",
     "output_type": "stream",
     "text": [
      "[array([[ 1.,  2., 11., 12., 13.,  1.]]), array([[ 3.,  4., 14., 15., 16.,  1.]]), array([[ 5.,  6., 17., 18., 19.,  1.]])]\n"
     ]
    }
   ],
   "source": [
    "g = np.vsplit(d,3)\n",
    "print(g)"
   ]
  },
  {
   "cell_type": "code",
   "execution_count": 26,
   "metadata": {},
   "outputs": [
    {
     "name": "stdout",
     "output_type": "stream",
     "text": [
      "[[ 1.  2. 11. 12. 13.  1.]]\n"
     ]
    }
   ],
   "source": [
    "print(g[0])"
   ]
  },
  {
   "cell_type": "code",
   "execution_count": 27,
   "metadata": {},
   "outputs": [
    {
     "name": "stdout",
     "output_type": "stream",
     "text": [
      "[[ 3.  4. 14. 15. 16.  1.]]\n"
     ]
    }
   ],
   "source": [
    "print(g[1])"
   ]
  },
  {
   "cell_type": "code",
   "execution_count": 28,
   "metadata": {},
   "outputs": [
    {
     "name": "stdout",
     "output_type": "stream",
     "text": [
      "[[ 5.  6. 17. 18. 19.  1.]]\n"
     ]
    }
   ],
   "source": [
    "print(g[2])"
   ]
  },
  {
   "cell_type": "code",
   "execution_count": null,
   "metadata": {},
   "outputs": [],
   "source": []
  }
 ],
 "metadata": {
  "kernelspec": {
   "display_name": "Python 3",
   "language": "python",
   "name": "python3"
  },
  "language_info": {
   "codemirror_mode": {
    "name": "ipython",
    "version": 3
   },
   "file_extension": ".py",
   "mimetype": "text/x-python",
   "name": "python",
   "nbconvert_exporter": "python",
   "pygments_lexer": "ipython3",
   "version": "3.7.3"
  }
 },
 "nbformat": 4,
 "nbformat_minor": 2
}
